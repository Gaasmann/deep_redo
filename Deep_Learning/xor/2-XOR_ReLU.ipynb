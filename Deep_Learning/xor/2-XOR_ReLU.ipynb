{
 "cells": [
  {
   "cell_type": "markdown",
   "metadata": {},
   "source": [
    "# Learning XOR function with ReLU\n",
    "## Deep Learning, 6.1, p. 166\n",
    "\n",
    "After demonstrating that linear regression can't approximate XOR accuratly, the book proposes a solution with one hidden layer with 2 units, using the Rectified Linear Unit (ReLU) as activation function. This function is applied element-wise and is basically the function y = max(0, x). This is followed by an output layer (1 unit) which is a simple linear regression.\n",
    "\n",
    "Here I implement this model and apply gradient descent as done with the previous notebook.\n",
    "### Results\n",
    "The book gives the value of weights and biases to reach a perfect approximation of XOR (p.170).\n",
    "Running a gradient descend with those parameters confirms the solution.\n",
    "\n",
    "That said, I also run GD (learning rate=0.25) with weights chosen on a truncated normal distribution N(x <2.0, 0, 1) and biases set to 0. The result seems stuck to local optimums. I tried to vary the learning rate as it's the only hyperparameter in the model so far.\n",
    "The result shown in the graph is kind of irregular and certainly beyond my comprehension so far.\n",
    "Maybe regularization techniques or methods to pick rights initial parameters would help."
   ]
  },
  {
   "cell_type": "code",
   "execution_count": 1,
   "metadata": {
    "collapsed": false
   },
   "outputs": [],
   "source": [
    "import tensorflow as tf\n",
    "import numpy as np\n",
    "import sys\n",
    "import matplotlib.pyplot as plt"
   ]
  },
  {
   "cell_type": "code",
   "execution_count": 2,
   "metadata": {
    "collapsed": false
   },
   "outputs": [],
   "source": [
    "log_path = \"./logs-nb2\"\n",
    "data = np.array([[0,0],[0,1],[1,0],[1,1]], np.float32)\n",
    "label = np.array([0,1,1,0],np.float32)\n",
    "weight_hidden_sol = np.array([[1,1],[1,1]], np.float32)\n",
    "weight_out_sol = np.array([[1],[-2]], np.float32)\n",
    "bias_hidden_sol = np.array([[0],[-1]], np.float32)\n",
    "bias_out_sol = np.array([[0]], np.float32)"
   ]
  },
  {
   "cell_type": "code",
   "execution_count": 3,
   "metadata": {
    "collapsed": false,
    "scrolled": true
   },
   "outputs": [],
   "source": [
    "tf.reset_default_graph()\n",
    "# That function is too big. I wished to separate the graph building from the GD iterations\n",
    "# but I don't know yet how to return a graph and extract tensors from it (to be passed to session.run)\n",
    "def process(learning_rate, given_solution=False):\n",
    "    # GRAPH DEFINITION\n",
    "    # Imported data\n",
    "    with tf.name_scope(\"Inputs\"):\n",
    "        tf_data = tf.constant(data, name=\"data\")\n",
    "        tf_label = tf.constant(label, shape=(4,1), name=\"labels\")\n",
    "    # Variables\n",
    "    with tf.name_scope(\"Weights\"):\n",
    "        if given_solution:\n",
    "            weights_hidden = tf.Variable(weight_hidden_sol, name=\"weights_hidden\")\n",
    "            weights_out = tf.Variable(weight_out_sol, name=\"weights_out\")\n",
    "        else:\n",
    "            weights_hidden = tf.Variable(tf.truncated_normal([2, 2], dtype=tf.float32), name=\"weights_hidden\")\n",
    "            weights_out = tf.Variable(tf.truncated_normal([2, 1], dtype=tf.float32), name=\"weights_out\")\n",
    "    with tf.name_scope(\"Bias\"):\n",
    "        if given_solution:\n",
    "            bias_hidden = tf.Variable(bias_hidden_sol.transpose(), name=\"bias_hidden\")\n",
    "            bias_out = tf.Variable(bias_out_sol, name=\"bias_out\")\n",
    "        else:\n",
    "            bias_hidden = tf.Variable(tf.zeros([1,2], dtype=tf.float32), name=\"bias_hidden\")\n",
    "            bias_out = tf.Variable(tf.zeros([], dtype=tf.float32), name=\"bias_out\")\n",
    "    # layers\n",
    "    with tf.name_scope(\"Hidden_layer\"):\n",
    "        hidden = tf.nn.relu(tf.matmul(tf_data, weights_hidden) + bias_hidden)\n",
    "    with tf.name_scope(\"Output_layer\"):\n",
    "        output = tf.matmul(hidden, weights_out) + bias_out\n",
    "    # loss function\n",
    "    with tf.name_scope(\"Loss_function\"):\n",
    "        loss = tf.reduce_mean(tf.pow(tf_label - output, 2), 0)\n",
    "    # Gradient descent\n",
    "    with tf.name_scope(\"Optimizer\"):\n",
    "        optimizer = tf.train.GradientDescentOptimizer(1.0).minimize(loss)\n",
    "    # SUMMARY\n",
    "    writer = tf.summary.FileWriter(log_path, graph=tf.get_default_graph())\n",
    "    tf.summary.scalar(\"loss\", loss[0])\n",
    "    summary_op = tf.summary.merge_all()\n",
    "    # GD EXEC\n",
    "    nb_steps = 10001\n",
    "    with tf.Session() as session:\n",
    "        tf.global_variables_initializer().run()\n",
    "        for step in range(nb_steps):\n",
    "            _, l, summary = session.run([optimizer, loss, summary_op])\n",
    "            writer.add_summary(summary, step)\n",
    "            if step % 100 == 0:\n",
    "                sys.stdout.write(\".\")\n",
    "    print()\n",
    "    return l"
   ]
  },
  {
   "cell_type": "code",
   "execution_count": 4,
   "metadata": {
    "collapsed": false
   },
   "outputs": [
    {
     "name": "stdout",
     "output_type": "stream",
     "text": [
      "process with given params\n",
      ".....................................................................................................\n",
      "process learning rate: 0.0001\n",
      ".....................................................................................................\n",
      "process learning rate: 0.001\n",
      ".....................................................................................................\n",
      "process learning rate: 0.01\n",
      ".....................................................................................................\n",
      "process learning rate: 0.1\n",
      ".....................................................................................................\n",
      "process learning rate: 1\n",
      ".....................................................................................................\n",
      "process learning rate: 10\n",
      ".....................................................................................................\n",
      "done\n"
     ]
    }
   ],
   "source": [
    "#GENERATE DATA\n",
    "print('process with given params')\n",
    "loss_given_params = process(0.25, True)\n",
    "learning_rates = [0.0001, 0.001, 0.01, 0.1, 1, 10]\n",
    "losses = []\n",
    "for lr in learning_rates:\n",
    "    print ('process learning rate: {}'.format(lr))\n",
    "    losses.append(process(lr, False))\n",
    "print(\"done\")"
   ]
  },
  {
   "cell_type": "code",
   "execution_count": 7,
   "metadata": {
    "collapsed": false
   },
   "outputs": [
    {
     "data": {
      "image/png": "[encoded data removed]",
      "text/plain": [
       "<matplotlib.figure.Figure at 0x7f57b4330390>"
      ]
     },
     "metadata": {},
     "output_type": "display_data"
    }
   ],
   "source": [
    "plt.semilogx(learning_rates, losses, 'r-')\n",
    "plt.ylabel('loss')\n",
    "plt.xlabel('learning rate')\n",
    "plt.show()"
   ]
  },
  {
   "cell_type": "code",
   "execution_count": 8,
   "metadata": {
    "collapsed": false
   },
   "outputs": [
    {
     "name": "stdout",
     "output_type": "stream",
     "text": [
      "loss with given weights and biases: [ 0.]\n"
     ]
    }
   ],
   "source": [
    "print('loss with given weights and biases: {}'.format(loss_given_params))"
   ]
  }
 ],
 "metadata": {
  "kernelspec": {
   "display_name": "Python 3",
   "language": "python",
   "name": "python3"
  },
  "language_info": {
   "codemirror_mode": {
    "name": "ipython",
    "version": 3
   },
   "file_extension": ".py",
   "mimetype": "text/x-python",
   "name": "python",
   "nbconvert_exporter": "python",
   "pygments_lexer": "ipython3",
   "version": "3.5.2+"
  }
 },
 "nbformat": 4,
 "nbformat_minor": 2
}
